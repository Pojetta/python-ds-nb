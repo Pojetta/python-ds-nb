{
 "cells": [
  {
   "cell_type": "markdown",
   "id": "1d6a7ea0",
   "metadata": {},
   "source": [
    "Joanna Farris"
   ]
  },
  {
   "cell_type": "markdown",
   "id": "70c4a8e3",
   "metadata": {},
   "source": [
    "10. Create a new Jupyter Notebook (the name of the notebook should be your S number). Add a Markdown cell that contains your name. Add a Code cell and write Python that uses loops to draw the following pattern:\n",
    "\n",
    "```\n",
    "*      *\n",
    "**    **\n",
    "***  ***\n",
    "********\n",
    "```\n",
    "Make sure to add and submit both the new notebook and the changes to this notebook for this assignment."
   ]
  },
  {
   "cell_type": "markdown",
   "id": "a3562ff2",
   "metadata": {},
   "source": [
    "*I had to get help with this one. ChatGPT first walked me through the code below. Then it helped me get it into a for loop.*"
   ]
  },
  {
   "cell_type": "code",
   "execution_count": 18,
   "id": "f43d2682",
   "metadata": {},
   "outputs": [
    {
     "name": "stdout",
     "output_type": "stream",
     "text": [
      "*      *\n",
      "**    **\n",
      "***  ***\n",
      "********\n"
     ]
    }
   ],
   "source": [
    "left = '*' * 1\n",
    "middle = ' ' * 6\n",
    "right = '*' * 1\n",
    "print(left + middle + right)\n",
    "\n",
    "left = '*' * 2\n",
    "middle = ' ' * 4\n",
    "right = '*' * 2\n",
    "print(left + middle + right)\n",
    "\n",
    "left = '*' * 3\n",
    "middle = ' ' * 2\n",
    "right = '*' * 3\n",
    "print(left + middle + right)\n",
    "\n",
    "left = '*' * 4\n",
    "middle = ' ' * 0\n",
    "right = '*' * 4\n",
    "print(left + middle + right)"
   ]
  },
  {
   "cell_type": "code",
   "execution_count": 19,
   "id": "172c1d9a",
   "metadata": {},
   "outputs": [
    {
     "name": "stdout",
     "output_type": "stream",
     "text": [
      "1\n",
      "2\n",
      "3\n",
      "4\n"
     ]
    }
   ],
   "source": [
    "for i in range(1, 5):\n",
    "    print(i)"
   ]
  },
  {
   "cell_type": "markdown",
   "id": "6d47d806",
   "metadata": {},
   "source": [
    "10. Final"
   ]
  },
  {
   "cell_type": "code",
   "execution_count": 20,
   "id": "fe0b0aa0",
   "metadata": {},
   "outputs": [
    {
     "name": "stdout",
     "output_type": "stream",
     "text": [
      "*      *\n",
      "**    **\n",
      "***  ***\n",
      "********\n"
     ]
    }
   ],
   "source": [
    "for i in range(1, 5):\n",
    "    left = '*' * i\n",
    "    middle = ' ' * (2 * (4 - i))\n",
    "    right = '*' * i\n",
    "    print(left + middle + right)\n"
   ]
  }
 ],
 "metadata": {
  "kernelspec": {
   "display_name": "Python 3",
   "language": "python",
   "name": "python3"
  },
  "language_info": {
   "codemirror_mode": {
    "name": "ipython",
    "version": 3
   },
   "file_extension": ".py",
   "mimetype": "text/x-python",
   "name": "python",
   "nbconvert_exporter": "python",
   "pygments_lexer": "ipython3",
   "version": "3.11.12"
  }
 },
 "nbformat": 4,
 "nbformat_minor": 5
}
